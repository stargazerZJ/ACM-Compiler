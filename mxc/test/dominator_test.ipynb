{
 "cells": [
  {
   "cell_type": "code",
   "metadata": {
    "ExecuteTime": {
     "end_time": "2025-02-20T06:16:17.083266Z",
     "start_time": "2025-02-20T06:16:17.074554Z"
    }
   },
   "source": "import mxc.common.dominator as dominator",
   "outputs": [],
   "execution_count": 1
  },
  {
   "cell_type": "code",
   "metadata": {
    "ExecuteTime": {
     "end_time": "2025-02-20T06:16:17.089979Z",
     "start_time": "2025-02-20T06:16:17.087765Z"
    }
   },
   "source": [
    "input = [\n",
    "    [1],\n",
    "    [2],\n",
    "    [3, 4, 5],\n",
    "    [0, 6],\n",
    "    [2, 5],\n",
    "    [7],\n",
    "    [7, 8, 9],\n",
    "    [],\n",
    "    [],\n",
    "    []\n",
    "]"
   ],
   "outputs": [],
   "execution_count": 2
  },
  {
   "metadata": {
    "ExecuteTime": {
     "end_time": "2025-02-20T06:16:17.236238Z",
     "start_time": "2025-02-20T06:16:17.231605Z"
    }
   },
   "cell_type": "code",
   "source": [
    "dom_tree = dominator.DominatorTree(input)\n",
    "dom_tree.compute()\n",
    "dom_tree.get_dominator_tree_dfs_order()\n",
    "# [0, 1, 2, 3, 6, 8, 9, 4, 5, 7]"
   ],
   "outputs": [
    {
     "data": {
      "text/plain": [
       "[0, 1, 2, 3, 6, 8, 9, 4, 5, 7]"
      ]
     },
     "execution_count": 3,
     "metadata": {},
     "output_type": "execute_result"
    }
   ],
   "execution_count": 3
  },
  {
   "metadata": {
    "ExecuteTime": {
     "end_time": "2025-02-20T06:17:17.357610Z",
     "start_time": "2025-02-20T06:17:17.354506Z"
    }
   },
   "cell_type": "code",
   "source": "dom_tree.get_immediate_dominators()",
   "outputs": [
    {
     "data": {
      "text/plain": [
       "[-1, 0, 1, 2, 2, 2, 3, 2, 6, 6]"
      ]
     },
     "execution_count": 14,
     "metadata": {},
     "output_type": "execute_result"
    }
   ],
   "execution_count": 14
  },
  {
   "metadata": {
    "ExecuteTime": {
     "end_time": "2025-02-20T06:16:17.250153Z",
     "start_time": "2025-02-20T06:16:17.246278Z"
    }
   },
   "cell_type": "code",
   "source": [
    "dominator.get_dominator_tree_dfs_order(input)\n",
    "# [0, 1, 2, 3, 6, 8, 9, 4, 5, 7]"
   ],
   "outputs": [
    {
     "data": {
      "text/plain": [
       "[0, 1, 2, 3, 6, 8, 9, 4, 5, 7]"
      ]
     },
     "execution_count": 4,
     "metadata": {},
     "output_type": "execute_result"
    }
   ],
   "execution_count": 4
  },
  {
   "metadata": {
    "ExecuteTime": {
     "end_time": "2025-02-20T06:16:17.262142Z",
     "start_time": "2025-02-20T06:16:17.259668Z"
    }
   },
   "cell_type": "code",
   "source": [
    "def print_result(result):\n",
    "    for node, frontier in enumerate(result):\n",
    "        print(f\"Node {node}: {frontier}\")"
   ],
   "outputs": [],
   "execution_count": 5
  },
  {
   "cell_type": "code",
   "metadata": {
    "ExecuteTime": {
     "end_time": "2025-02-20T06:16:17.283994Z",
     "start_time": "2025-02-20T06:16:17.281298Z"
    }
   },
   "source": [
    "result = dominator.get_reverse_dominance_frontier(input)\n",
    "print_result(result)\n",
    "# Node 0: [0, 1, 2, 3]\n",
    "# Node 1: []\n",
    "# Node 2: [2, 4]\n",
    "# Node 3: []\n",
    "# Node 4: []\n",
    "# Node 5: [4]\n",
    "# Node 6: []\n",
    "# Node 7: [3, 5, 6]\n",
    "# Node 8: []\n",
    "# Node 9: []"
   ],
   "outputs": [
    {
     "name": "stdout",
     "output_type": "stream",
     "text": [
      "Node 0: [0, 1, 2, 3]\n",
      "Node 1: []\n",
      "Node 2: [2, 4]\n",
      "Node 3: []\n",
      "Node 4: []\n",
      "Node 5: [4]\n",
      "Node 6: []\n",
      "Node 7: [3, 5, 6]\n",
      "Node 8: []\n",
      "Node 9: []\n"
     ]
    }
   ],
   "execution_count": 6
  },
  {
   "cell_type": "code",
   "metadata": {
    "ExecuteTime": {
     "end_time": "2025-02-20T06:16:17.318233Z",
     "start_time": "2025-02-20T06:16:17.315681Z"
    }
   },
   "source": [
    "input2 = [\n",
    "    [1,2],\n",
    "    [3],\n",
    "    [3],\n",
    "    [4, 5],\n",
    "    [4, 5],\n",
    "    [6, 9],\n",
    "    [7, 8],\n",
    "    [7, 8],\n",
    "    [6, 9],\n",
    "    []\n",
    "]"
   ],
   "outputs": [],
   "execution_count": 7
  },
  {
   "metadata": {
    "ExecuteTime": {
     "end_time": "2025-02-20T06:16:17.327917Z",
     "start_time": "2025-02-20T06:16:17.324493Z"
    }
   },
   "cell_type": "code",
   "source": [
    "dominator.get_dominator_tree_dfs_order(input2)\n",
    "# [0, 1, 2, 3, 4, 5, 6, 7, 8, 9]"
   ],
   "outputs": [
    {
     "data": {
      "text/plain": [
       "[0, 1, 2, 3, 4, 5, 6, 7, 8, 9]"
      ]
     },
     "execution_count": 8,
     "metadata": {},
     "output_type": "execute_result"
    }
   ],
   "execution_count": 8
  },
  {
   "metadata": {
    "ExecuteTime": {
     "end_time": "2025-02-20T06:16:17.339489Z",
     "start_time": "2025-02-20T06:16:17.335920Z"
    }
   },
   "cell_type": "code",
   "source": "dominator.get_indirect_predecessor_set_of_dominator_frontier.__doc__",
   "outputs": [
    {
     "data": {
      "text/plain": [
       "'get_indirect_predecessor_set_of_dominator_frontier(arg0: list[list[int]]) -> list[list[int]]\\n\\nGet the indirect predecessor set of the dominator frontier of each node in a directed graph.\\n'"
      ]
     },
     "execution_count": 9,
     "metadata": {},
     "output_type": "execute_result"
    }
   ],
   "execution_count": 9
  },
  {
   "metadata": {
    "ExecuteTime": {
     "end_time": "2025-02-20T06:16:17.357659Z",
     "start_time": "2025-02-20T06:16:17.354720Z"
    }
   },
   "cell_type": "code",
   "source": "print_result(dominator.get_indirect_predecessor_set_of_dominator_frontier(input2))",
   "outputs": [
    {
     "name": "stdout",
     "output_type": "stream",
     "text": [
      "Node 0: []\n",
      "Node 1: []\n",
      "Node 2: []\n",
      "Node 3: [2, 1]\n",
      "Node 4: [4]\n",
      "Node 5: [4]\n",
      "Node 6: [6, 8, 7]\n",
      "Node 7: [7]\n",
      "Node 8: [7]\n",
      "Node 9: [6, 8, 7]\n"
     ]
    }
   ],
   "execution_count": 10
  },
  {
   "metadata": {
    "ExecuteTime": {
     "end_time": "2025-02-20T06:16:17.379748Z",
     "start_time": "2025-02-20T06:16:17.375813Z"
    }
   },
   "cell_type": "code",
   "source": "dir(dominator)",
   "outputs": [
    {
     "data": {
      "text/plain": [
       "['DominatorTree',\n",
       " '__builtins__',\n",
       " '__cached__',\n",
       " '__doc__',\n",
       " '__file__',\n",
       " '__loader__',\n",
       " '__name__',\n",
       " '__package__',\n",
       " '__path__',\n",
       " '__spec__',\n",
       " 'dominator',\n",
       " 'get_dominator_tree_dfs_order',\n",
       " 'get_indirect_predecessor_set',\n",
       " 'get_indirect_predecessor_set_of_dominator_frontier',\n",
       " 'get_reverse_dominance_frontier',\n",
       " 'graph_type']"
      ]
     },
     "execution_count": 11,
     "metadata": {},
     "output_type": "execute_result"
    }
   ],
   "execution_count": 11
  },
  {
   "metadata": {
    "ExecuteTime": {
     "end_time": "2025-02-20T06:16:17.401664Z",
     "start_time": "2025-02-20T06:16:17.398991Z"
    }
   },
   "cell_type": "code",
   "source": [
    "print_result(dominator.get_reverse_dominance_frontier(input2))\n",
    "# Node 0: []\n",
    "# Node 1: []\n",
    "# Node 2: []\n",
    "# Node 3: [1, 2]\n",
    "# Node 4: [4]\n",
    "# Node 5: [4]\n",
    "# Node 6: [6, 8]\n",
    "# Node 7: [7]\n",
    "# Node 8: [7]\n",
    "# Node 9: [6, 8]"
   ],
   "outputs": [
    {
     "name": "stdout",
     "output_type": "stream",
     "text": [
      "Node 0: []\n",
      "Node 1: []\n",
      "Node 2: []\n",
      "Node 3: [1, 2]\n",
      "Node 4: [4]\n",
      "Node 5: [4]\n",
      "Node 6: [6, 8]\n",
      "Node 7: [7]\n",
      "Node 8: [7]\n",
      "Node 9: [6, 8]\n"
     ]
    }
   ],
   "execution_count": 12
  },
  {
   "metadata": {
    "ExecuteTime": {
     "end_time": "2025-02-20T06:16:17.419285Z",
     "start_time": "2025-02-20T06:16:17.415695Z"
    }
   },
   "cell_type": "code",
   "source": [
    "def dfs(graph, node, visited, post_order):\n",
    "    visited[node] = True\n",
    "    for neighbor in graph[node]:\n",
    "        if not visited[neighbor]:\n",
    "            dfs(graph, neighbor, visited, post_order)\n",
    "    post_order.append(node)\n",
    "\n",
    "def reverse_post_order(graph):\n",
    "    visited = [False] * len(graph)\n",
    "    post_order = []\n",
    "\n",
    "    for node in range(len(graph)):\n",
    "        if not visited[node]:\n",
    "            dfs(graph, node, visited, post_order)\n",
    "\n",
    "    # Reverse the post-order to get reverse post-order\n",
    "    return post_order[::-1]\n",
    "\n",
    "# Adjacency list of the given graph\n",
    "input_graph = [\n",
    "    [1, 2],\n",
    "    [3],\n",
    "    [3],\n",
    "    [4, 5],\n",
    "    [4, 5],\n",
    "    [6, 9],\n",
    "    [7, 8],\n",
    "    [7, 8],\n",
    "    [6, 9],\n",
    "    []\n",
    "]\n",
    "\n",
    "# Find the reverse post-order\n",
    "result = reverse_post_order(input_graph)\n",
    "print(\"Reverse Post Order:\", result)\n",
    "# Reverse Post Order: [0, 2, 1, 3, 4, 5, 6, 7, 8, 9]"
   ],
   "outputs": [
    {
     "name": "stdout",
     "output_type": "stream",
     "text": [
      "Reverse Post Order: [0, 2, 1, 3, 4, 5, 6, 7, 8, 9]\n"
     ]
    }
   ],
   "execution_count": 13
  },
  {
   "metadata": {
    "ExecuteTime": {
     "end_time": "2025-02-20T06:16:17.434772Z",
     "start_time": "2025-02-20T06:16:17.433067Z"
    }
   },
   "cell_type": "code",
   "source": "",
   "outputs": [],
   "execution_count": null
  }
 ],
 "metadata": {
  "kernelspec": {
   "display_name": "Python 3",
   "language": "python",
   "name": "python3"
  },
  "language_info": {
   "codemirror_mode": {
    "name": "ipython",
    "version": 3
   },
   "file_extension": ".py",
   "mimetype": "text/x-python",
   "name": "python",
   "nbconvert_exporter": "python",
   "pygments_lexer": "ipython3",
   "version": "3.10.12"
  }
 },
 "nbformat": 4,
 "nbformat_minor": 2
}
