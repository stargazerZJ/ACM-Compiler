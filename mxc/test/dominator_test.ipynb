{
 "cells": [
  {
   "cell_type": "code",
   "metadata": {
    "ExecuteTime": {
     "end_time": "2024-08-27T10:39:02.326014Z",
     "start_time": "2024-08-27T10:39:02.318624Z"
    }
   },
   "source": [
    "import dominator"
   ],
   "outputs": [],
   "execution_count": 1
  },
  {
   "cell_type": "code",
   "metadata": {
    "ExecuteTime": {
     "end_time": "2024-08-27T10:39:02.339791Z",
     "start_time": "2024-08-27T10:39:02.328732Z"
    }
   },
   "source": [
    "input = [\n",
    "    [1],\n",
    "    [2],\n",
    "    [3, 4, 5],\n",
    "    [0, 6],\n",
    "    [2, 5],\n",
    "    [7],\n",
    "    [7, 8, 9],\n",
    "    [],\n",
    "    [],\n",
    "    []\n",
    "]"
   ],
   "outputs": [],
   "execution_count": 2
  },
  {
   "metadata": {
    "ExecuteTime": {
     "end_time": "2024-08-27T10:39:02.373487Z",
     "start_time": "2024-08-27T10:39:02.367008Z"
    }
   },
   "cell_type": "code",
   "source": "dominator.get_dominator_tree_dfs_order(input)",
   "outputs": [
    {
     "data": {
      "text/plain": [
       "[0, 1, 2, 3, 6, 8, 9, 4, 5, 7]"
      ]
     },
     "execution_count": 3,
     "metadata": {},
     "output_type": "execute_result"
    }
   ],
   "execution_count": 3
  },
  {
   "metadata": {
    "ExecuteTime": {
     "end_time": "2024-08-27T10:39:02.887390Z",
     "start_time": "2024-08-27T10:39:02.883512Z"
    }
   },
   "cell_type": "code",
   "source": [
    "def print_result(result):\n",
    "    for node, frontier in enumerate(result):\n",
    "        print(f\"Node {node}: {frontier}\")"
   ],
   "outputs": [],
   "execution_count": 4
  },
  {
   "cell_type": "code",
   "metadata": {
    "ExecuteTime": {
     "end_time": "2024-08-27T10:39:02.898545Z",
     "start_time": "2024-08-27T10:39:02.893297Z"
    }
   },
   "source": [
    "result = dominator.get_reverse_dominance_frontier(input)\n",
    "print_result(result)\n",
    "# Node 0: [0, 1, 2, 3]\n",
    "# Node 1: []\n",
    "# Node 2: [2, 4]\n",
    "# Node 3: []\n",
    "# Node 4: []\n",
    "# Node 5: [4]\n",
    "# Node 6: []\n",
    "# Node 7: [3, 5, 6]\n",
    "# Node 8: []\n",
    "# Node 9: []"
   ],
   "outputs": [
    {
     "name": "stdout",
     "output_type": "stream",
     "text": [
      "Node 0: [0, 1, 2, 3]\n",
      "Node 1: []\n",
      "Node 2: [2, 4]\n",
      "Node 3: []\n",
      "Node 4: []\n",
      "Node 5: [4]\n",
      "Node 6: []\n",
      "Node 7: [3, 5, 6]\n",
      "Node 8: []\n",
      "Node 9: []\n"
     ]
    }
   ],
   "execution_count": 5
  },
  {
   "cell_type": "code",
   "metadata": {
    "ExecuteTime": {
     "end_time": "2024-08-27T10:39:02.974449Z",
     "start_time": "2024-08-27T10:39:02.971586Z"
    }
   },
   "source": [
    "input2 = [\n",
    "    [1,2],\n",
    "    [3],\n",
    "    [3],\n",
    "    [4, 5],\n",
    "    [4, 5],\n",
    "    [6, 9],\n",
    "    [7, 8],\n",
    "    [7, 8],\n",
    "    [6, 9],\n",
    "    []\n",
    "]"
   ],
   "outputs": [],
   "execution_count": 6
  },
  {
   "metadata": {
    "ExecuteTime": {
     "end_time": "2024-08-27T10:39:56.618854Z",
     "start_time": "2024-08-27T10:39:56.602720Z"
    }
   },
   "cell_type": "code",
   "source": "dominator.get_dominator_tree_dfs_order(input2)",
   "outputs": [
    {
     "data": {
      "text/plain": [
       "[0, 1, 2, 3, 4, 5, 6, 7, 8, 9]"
      ]
     },
     "execution_count": 12,
     "metadata": {},
     "output_type": "execute_result"
    }
   ],
   "execution_count": 12
  },
  {
   "metadata": {
    "ExecuteTime": {
     "end_time": "2024-08-27T10:39:03.010388Z",
     "start_time": "2024-08-27T10:39:03.003779Z"
    }
   },
   "cell_type": "code",
   "source": "dominator.get_indirect_predecessor_set_of_dominator_frontier.__doc__",
   "outputs": [
    {
     "data": {
      "text/plain": [
       "'get_indirect_predecessor_set_of_dominator_frontier(arg0: list[list[int]]) -> list[list[int]]\\n\\nGet the indirect predecessor set of the dominator frontier of each node in a directed graph.\\n'"
      ]
     },
     "execution_count": 7,
     "metadata": {},
     "output_type": "execute_result"
    }
   ],
   "execution_count": 7
  },
  {
   "metadata": {
    "ExecuteTime": {
     "end_time": "2024-08-27T10:39:03.035035Z",
     "start_time": "2024-08-27T10:39:03.018958Z"
    }
   },
   "cell_type": "code",
   "source": "print_result(dominator.get_indirect_predecessor_set_of_dominator_frontier(input2))",
   "outputs": [
    {
     "name": "stdout",
     "output_type": "stream",
     "text": [
      "Node 0: []\n",
      "Node 1: []\n",
      "Node 2: []\n",
      "Node 3: [2, 1]\n",
      "Node 4: [4]\n",
      "Node 5: [4]\n",
      "Node 6: [6, 8, 7]\n",
      "Node 7: [7]\n",
      "Node 8: [7]\n",
      "Node 9: [6, 8, 7]\n"
     ]
    }
   ],
   "execution_count": 8
  },
  {
   "metadata": {
    "ExecuteTime": {
     "end_time": "2024-08-27T10:39:03.076937Z",
     "start_time": "2024-08-27T10:39:03.065444Z"
    }
   },
   "cell_type": "code",
   "source": "dir(dominator)",
   "outputs": [
    {
     "data": {
      "text/plain": [
       "['__builtins__',\n",
       " '__cached__',\n",
       " '__doc__',\n",
       " '__file__',\n",
       " '__loader__',\n",
       " '__name__',\n",
       " '__package__',\n",
       " '__path__',\n",
       " '__spec__',\n",
       " 'dominator',\n",
       " 'get_dominator_tree_dfs_order',\n",
       " 'get_indirect_predecessor_set',\n",
       " 'get_indirect_predecessor_set_of_dominator_frontier',\n",
       " 'get_reverse_dominance_frontier',\n",
       " 'graph_type']"
      ]
     },
     "execution_count": 9,
     "metadata": {},
     "output_type": "execute_result"
    }
   ],
   "execution_count": 9
  },
  {
   "metadata": {
    "ExecuteTime": {
     "end_time": "2024-08-27T10:39:03.092736Z",
     "start_time": "2024-08-27T10:39:03.088944Z"
    }
   },
   "cell_type": "code",
   "source": [
    "print_result(dominator.get_reverse_dominance_frontier(input2))\n",
    "# Node 0: []\n",
    "# Node 1: []\n",
    "# Node 2: []\n",
    "# Node 3: [1, 2]\n",
    "# Node 4: [4]\n",
    "# Node 5: [4]\n",
    "# Node 6: [6, 8]\n",
    "# Node 7: [7]\n",
    "# Node 8: [7]\n",
    "# Node 9: [6, 8]"
   ],
   "outputs": [
    {
     "name": "stdout",
     "output_type": "stream",
     "text": [
      "Node 0: []\n",
      "Node 1: []\n",
      "Node 2: []\n",
      "Node 3: [1, 2]\n",
      "Node 4: [4]\n",
      "Node 5: [4]\n",
      "Node 6: [6, 8]\n",
      "Node 7: [7]\n",
      "Node 8: [7]\n",
      "Node 9: [6, 8]\n"
     ]
    }
   ],
   "execution_count": 10
  },
  {
   "metadata": {
    "ExecuteTime": {
     "end_time": "2024-08-27T10:39:03.123533Z",
     "start_time": "2024-08-27T10:39:03.116439Z"
    }
   },
   "cell_type": "code",
   "source": [
    "def dfs(graph, node, visited, post_order):\n",
    "    visited[node] = True\n",
    "    for neighbor in graph[node]:\n",
    "        if not visited[neighbor]:\n",
    "            dfs(graph, neighbor, visited, post_order)\n",
    "    post_order.append(node)\n",
    "\n",
    "def reverse_post_order(graph):\n",
    "    visited = [False] * len(graph)\n",
    "    post_order = []\n",
    "\n",
    "    for node in range(len(graph)):\n",
    "        if not visited[node]:\n",
    "            dfs(graph, node, visited, post_order)\n",
    "\n",
    "    # Reverse the post-order to get reverse post-order\n",
    "    return post_order[::-1]\n",
    "\n",
    "# Adjacency list of the given graph\n",
    "input_graph = [\n",
    "    [1, 2],\n",
    "    [3],\n",
    "    [3],\n",
    "    [4, 5],\n",
    "    [4, 5],\n",
    "    [6, 9],\n",
    "    [7, 8],\n",
    "    [7, 8],\n",
    "    [6, 9],\n",
    "    []\n",
    "]\n",
    "\n",
    "# Find the reverse post-order\n",
    "result = reverse_post_order(input_graph)\n",
    "print(\"Reverse Post Order:\", result)"
   ],
   "outputs": [
    {
     "name": "stdout",
     "output_type": "stream",
     "text": [
      "Reverse Post Order: [0, 2, 1, 3, 4, 5, 6, 7, 8, 9]\n"
     ]
    }
   ],
   "execution_count": 11
  },
  {
   "metadata": {
    "ExecuteTime": {
     "end_time": "2024-08-27T10:39:03.147802Z",
     "start_time": "2024-08-27T10:39:03.144465Z"
    }
   },
   "cell_type": "code",
   "source": "",
   "outputs": [],
   "execution_count": null
  }
 ],
 "metadata": {
  "kernelspec": {
   "display_name": "Python 3",
   "language": "python",
   "name": "python3"
  },
  "language_info": {
   "codemirror_mode": {
    "name": "ipython",
    "version": 3
   },
   "file_extension": ".py",
   "mimetype": "text/x-python",
   "name": "python",
   "nbconvert_exporter": "python",
   "pygments_lexer": "ipython3",
   "version": "3.10.12"
  }
 },
 "nbformat": 4,
 "nbformat_minor": 2
}
